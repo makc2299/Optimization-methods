{
 "cells": [
  {
   "cell_type": "markdown",
   "metadata": {},
   "source": [
    "# Import the module\n"
   ]
  },
  {
   "cell_type": "code",
   "execution_count": 78,
   "metadata": {},
   "outputs": [],
   "source": [
    "import optimize_module as opm\n",
    "import numpy as np"
   ]
  },
  {
   "cell_type": "markdown",
   "metadata": {},
   "source": [
    "Let's see what functions are present in the model. The dir () function is used to find out which module names are defined. It returns a sorted list of strings:"
   ]
  },
  {
   "cell_type": "code",
   "execution_count": 67,
   "metadata": {},
   "outputs": [
    {
     "data": {
      "text/plain": [
       "['ConjugateGradients',\n",
       " 'CoordinateDescent',\n",
       " 'Dichotomy',\n",
       " 'Dichotomy1',\n",
       " 'GradientDescent',\n",
       " 'Marquardt',\n",
       " 'NelderMead',\n",
       " 'Newton',\n",
       " '__builtins__',\n",
       " '__cached__',\n",
       " '__doc__',\n",
       " '__file__',\n",
       " '__loader__',\n",
       " '__name__',\n",
       " '__package__',\n",
       " '__spec__',\n",
       " 'det',\n",
       " 'f',\n",
       " 'grad',\n",
       " 'hesse',\n",
       " 'inv',\n",
       " 'norm',\n",
       " 'np']"
      ]
     },
     "execution_count": 67,
     "metadata": {},
     "output_type": "execute_result"
    }
   ],
   "source": [
    "dir(opm)"
   ]
  },
  {
   "cell_type": "markdown",
   "metadata": {},
   "source": [
    "# Let's give some examples of using the module"
   ]
  },
  {
   "cell_type": "markdown",
   "metadata": {},
   "source": [
    "From README.txt we see that the function CoordinateDescent takes as parameters CoordinateDescent(f,x,eps) where f is function object that you declared. Therefore, to use CoordinateDescent function, we need to declare given function and the point x"
   ]
  },
  {
   "cell_type": "code",
   "execution_count": 144,
   "metadata": {},
   "outputs": [],
   "source": [
    "def f(x):\n",
    "    return 10*x[0]**2 + 6*x[1]**2"
   ]
  },
  {
   "cell_type": "code",
   "execution_count": 145,
   "metadata": {},
   "outputs": [],
   "source": [
    "x = np.array([1., -1.])"
   ]
  },
  {
   "cell_type": "markdown",
   "metadata": {},
   "source": [
    "After that we can use CoordinateDescent"
   ]
  },
  {
   "cell_type": "code",
   "execution_count": 146,
   "metadata": {},
   "outputs": [
    {
     "data": {
      "text/plain": [
       "[array([5.00000027, 5.99999991]), 466.0000208507886, 2]"
      ]
     },
     "execution_count": 146,
     "metadata": {},
     "output_type": "execute_result"
    }
   ],
   "source": [
    "opm.CoordinateDescent(f,x,1e-6)"
   ]
  },
  {
   "cell_type": "markdown",
   "metadata": {},
   "source": [
    "Nelder-Mead method - NelderMead(f,x1, x2, x3, eps), f - is function object that you need declared, x1,x2,x3 - point coordinates"
   ]
  },
  {
   "cell_type": "code",
   "execution_count": 141,
   "metadata": {},
   "outputs": [],
   "source": [
    "def f(x):\n",
    "    return 10*x[0]**2 + 6*x[1]**2 - 2*x[0]*x[1] + x[1] + 5"
   ]
  },
  {
   "cell_type": "code",
   "execution_count": 142,
   "metadata": {},
   "outputs": [],
   "source": [
    "x1=np.array([9. , 2.])\n",
    "x2=np.array([3., 5.])\n",
    "x3=np.array([4. , 10.])"
   ]
  },
  {
   "cell_type": "code",
   "execution_count": 143,
   "metadata": {},
   "outputs": [
    {
     "data": {
      "text/plain": [
       "[array([-0.00832367, -0.08486938]), 4.9576274753781036, 27]"
      ]
     },
     "execution_count": 143,
     "metadata": {},
     "output_type": "execute_result"
    }
   ],
   "source": [
    "opm.NelderMead(f, x1, x2, x3, 1e-6)"
   ]
  },
  {
   "cell_type": "markdown",
   "metadata": {},
   "source": [
    "Method of the fastest gradient descent GradientDescent(f,grad,x,eps), grad - this is a function object that returns a gradient from given function"
   ]
  },
  {
   "cell_type": "code",
   "execution_count": 110,
   "metadata": {},
   "outputs": [],
   "source": [
    "def f(x):\n",
    "    return 4.*(x[0]-5)**2.+(x[1]-6)**2"
   ]
  },
  {
   "cell_type": "code",
   "execution_count": 111,
   "metadata": {},
   "outputs": [],
   "source": [
    "def grad(x):\n",
    "    return np.array([8.*(x[0]-5), 2.*(x[1]-6)])"
   ]
  },
  {
   "cell_type": "code",
   "execution_count": 112,
   "metadata": {},
   "outputs": [],
   "source": [
    "x = np.array([1., 2.])"
   ]
  },
  {
   "cell_type": "code",
   "execution_count": 113,
   "metadata": {},
   "outputs": [
    {
     "data": {
      "text/plain": [
       "[array([4.99999991, 5.99999991]), 4.093234030274998e-14, 16]"
      ]
     },
     "execution_count": 113,
     "metadata": {},
     "output_type": "execute_result"
    }
   ],
   "source": [
    "opm.GradientDescent(f,grad,x,1e-6)"
   ]
  },
  {
   "cell_type": "markdown",
   "metadata": {},
   "source": [
    "Newton's method Newton(f,grad,hesse,x,eps), f - is given function object that you declared, grad - this is a function object that returns a gradient from f function, hesse - is function object that returns the matrix of partial derivatives of grad"
   ]
  },
  {
   "cell_type": "code",
   "execution_count": 133,
   "metadata": {},
   "outputs": [],
   "source": [
    "def f(x):\n",
    "    return x[0]**2 + 4*x[0]*x[1] + 17*x[1]**2 + 5*x[1]"
   ]
  },
  {
   "cell_type": "code",
   "execution_count": 134,
   "metadata": {},
   "outputs": [],
   "source": [
    "def grad(x):\n",
    "    return np.array([2*x[0] + 4*x[1], 4*x[0] + 34*x[1] + 5])"
   ]
  },
  {
   "cell_type": "code",
   "execution_count": 135,
   "metadata": {},
   "outputs": [],
   "source": [
    "def hesse(x):\n",
    "    return np.array([[2., 4.], [4., 34.]])"
   ]
  },
  {
   "cell_type": "code",
   "execution_count": 136,
   "metadata": {},
   "outputs": [],
   "source": [
    "x = np.array([-2., 2.])"
   ]
  },
  {
   "cell_type": "code",
   "execution_count": 137,
   "metadata": {},
   "outputs": [
    {
     "data": {
      "text/plain": [
       "[array([ 0.38461538, -0.19230769]), -0.48076923076923084, 1]"
      ]
     },
     "execution_count": 137,
     "metadata": {},
     "output_type": "execute_result"
    }
   ],
   "source": [
    "opm.Newton(f,grad,hesse,x,1e-6)"
   ]
  },
  {
   "cell_type": "markdown",
   "metadata": {},
   "source": [
    "The McWard method Marquardt(f,grad,hesse,x,eps), f - is given function object that you declared, grad - this is a function object that returns a gradient from f function, hesse - is function object that returns the matrix of partial derivatives of grad"
   ]
  },
  {
   "cell_type": "code",
   "execution_count": 125,
   "metadata": {},
   "outputs": [],
   "source": [
    "def f(x):\n",
    "    return 100.*(x[1]-x[0]**2)**2 + 5.*(1-x[0])**2"
   ]
  },
  {
   "cell_type": "code",
   "execution_count": 126,
   "metadata": {},
   "outputs": [],
   "source": [
    "def grad(x):\n",
    "    return np.array([-400.*x[0]*(x[1]-x[0]**2) - 2.*(1.-x[0]), 200.*(x[1]-x[0]**2)])"
   ]
  },
  {
   "cell_type": "code",
   "execution_count": 127,
   "metadata": {},
   "outputs": [],
   "source": [
    "def hesse(x):\n",
    "    return np.array([[-400.*x[1]+1200*x[0]**2+2, -400.*x[0]], [-400.*x[0], 200.]])"
   ]
  },
  {
   "cell_type": "code",
   "execution_count": 128,
   "metadata": {},
   "outputs": [],
   "source": [
    "x = np.array([-2., 2.])"
   ]
  },
  {
   "cell_type": "code",
   "execution_count": 129,
   "metadata": {},
   "outputs": [
    {
     "data": {
      "text/plain": [
       "[array([0.99999989, 0.99999978]), 5.775415844068237e-14, 22]"
      ]
     },
     "execution_count": 129,
     "metadata": {},
     "output_type": "execute_result"
    }
   ],
   "source": [
    "opm.Marquardt(f,grad,hesse,x,1e-6)"
   ]
  },
  {
   "cell_type": "code",
   "execution_count": null,
   "metadata": {},
   "outputs": [],
   "source": []
  }
 ],
 "metadata": {
  "kernelspec": {
   "display_name": "Python 3",
   "language": "python",
   "name": "python3"
  },
  "language_info": {
   "codemirror_mode": {
    "name": "ipython",
    "version": 3
   },
   "file_extension": ".py",
   "mimetype": "text/x-python",
   "name": "python",
   "nbconvert_exporter": "python",
   "pygments_lexer": "ipython3",
   "version": "3.7.2"
  }
 },
 "nbformat": 4,
 "nbformat_minor": 4
}
